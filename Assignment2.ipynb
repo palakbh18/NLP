{
  "nbformat": 4,
  "nbformat_minor": 0,
  "metadata": {
    "colab": {
      "name": "Assignment2.ipynb",
      "provenance": [],
      "collapsed_sections": [],
      "toc_visible": true,
      "authorship_tag": "ABX9TyMeGV4c7shNQXuFCibsSd4b",
      "include_colab_link": true
    },
    "kernelspec": {
      "name": "python3",
      "display_name": "Python 3"
    },
    "accelerator": "GPU"
  },
  "cells": [
    {
      "cell_type": "markdown",
      "metadata": {
        "id": "view-in-github",
        "colab_type": "text"
      },
      "source": [
        "<a href=\"https://colab.research.google.com/github/palakbh18/NLP/blob/master/Assignment2.ipynb\" target=\"_parent\"><img src=\"https://colab.research.google.com/assets/colab-badge.svg\" alt=\"Open In Colab\"/></a>"
      ]
    },
    {
      "cell_type": "code",
      "metadata": {
        "id": "j5_pNVptbPjJ",
        "colab_type": "code",
        "outputId": "fcdbcafd-1b47-4a55-a575-c39a6355a000",
        "colab": {
          "base_uri": "https://localhost:8080/",
          "height": 253
        }
      },
      "source": [
        "# Import tensorflow\n",
        "# Import the pandas library to read the dataset \n",
        "import tensorflow.compat.v1 as tf\n",
        "tf.disable_v2_behavior()\n",
        "import pandas as pd\n",
        "# Import numpy \n",
        "import numpy as np\n",
        "# Import nltk\n",
        "import nltk \n",
        "import matplotlib.pyplot as plt\n",
        "import random \n",
        "from nltk.tokenize import word_tokenize\n",
        "nltk.download('punkt') \n",
        "nltk.download('stopwords') \n",
        "nltk.download('wordnet') "
      ],
      "execution_count": 2,
      "outputs": [
        {
          "output_type": "display_data",
          "data": {
            "text/html": [
              "<p style=\"color: red;\">\n",
              "The default version of TensorFlow in Colab will soon switch to TensorFlow 2.x.<br>\n",
              "We recommend you <a href=\"https://www.tensorflow.org/guide/migrate\" target=\"_blank\">upgrade</a> now \n",
              "or ensure your notebook will continue to use TensorFlow 1.x via the <code>%tensorflow_version 1.x</code> magic:\n",
              "<a href=\"https://colab.research.google.com/notebooks/tensorflow_version.ipynb\" target=\"_blank\">more info</a>.</p>\n"
            ],
            "text/plain": [
              "<IPython.core.display.HTML object>"
            ]
          },
          "metadata": {
            "tags": []
          }
        },
        {
          "output_type": "stream",
          "text": [
            "WARNING:tensorflow:From /tensorflow-1.15.0/python3.6/tensorflow_core/python/compat/v2_compat.py:68: disable_resource_variables (from tensorflow.python.ops.variable_scope) is deprecated and will be removed in a future version.\n",
            "Instructions for updating:\n",
            "non-resource variables are not supported in the long term\n",
            "[nltk_data] Downloading package punkt to /root/nltk_data...\n",
            "[nltk_data]   Unzipping tokenizers/punkt.zip.\n",
            "[nltk_data] Downloading package stopwords to /root/nltk_data...\n",
            "[nltk_data]   Unzipping corpora/stopwords.zip.\n",
            "[nltk_data] Downloading package wordnet to /root/nltk_data...\n",
            "[nltk_data]   Unzipping corpora/wordnet.zip.\n"
          ],
          "name": "stdout"
        },
        {
          "output_type": "execute_result",
          "data": {
            "text/plain": [
              "True"
            ]
          },
          "metadata": {
            "tags": []
          },
          "execution_count": 2
        }
      ]
    },
    {
      "cell_type": "code",
      "metadata": {
        "id": "pVsBt08N8Q14",
        "colab_type": "code",
        "outputId": "e87aa1dc-f51e-4d31-d865-f9469ed39f35",
        "colab": {
          "base_uri": "https://localhost:8080/",
          "height": 359
        }
      },
      "source": [
        "#Import the required libraries\n",
        "import csv\n",
        "import urllib.request as urllib2\n",
        "# Importing data using the github url\n",
        "url = 'https://raw.githubusercontent.com/cacoderquan/Sentiment-Analysis-on-the-Rotten-Tomatoes-movie-review-dataset/master/train.tsv'\n",
        "response = urllib2.urlopen(url)\n",
        "\n",
        "# Read the data and convert into dataframe\n",
        "data = pd.read_csv(response,delimiter='\\t',encoding='utf-8')\n",
        "# Printing the first 10 rows of the dataset\n",
        "data.head(10)\n"
      ],
      "execution_count": 3,
      "outputs": [
        {
          "output_type": "execute_result",
          "data": {
            "text/html": [
              "<div>\n",
              "<style scoped>\n",
              "    .dataframe tbody tr th:only-of-type {\n",
              "        vertical-align: middle;\n",
              "    }\n",
              "\n",
              "    .dataframe tbody tr th {\n",
              "        vertical-align: top;\n",
              "    }\n",
              "\n",
              "    .dataframe thead th {\n",
              "        text-align: right;\n",
              "    }\n",
              "</style>\n",
              "<table border=\"1\" class=\"dataframe\">\n",
              "  <thead>\n",
              "    <tr style=\"text-align: right;\">\n",
              "      <th></th>\n",
              "      <th>PhraseId</th>\n",
              "      <th>SentenceId</th>\n",
              "      <th>Phrase</th>\n",
              "      <th>Sentiment</th>\n",
              "    </tr>\n",
              "  </thead>\n",
              "  <tbody>\n",
              "    <tr>\n",
              "      <th>0</th>\n",
              "      <td>1</td>\n",
              "      <td>1</td>\n",
              "      <td>A series of escapades demonstrating the adage ...</td>\n",
              "      <td>1</td>\n",
              "    </tr>\n",
              "    <tr>\n",
              "      <th>1</th>\n",
              "      <td>2</td>\n",
              "      <td>1</td>\n",
              "      <td>A series of escapades demonstrating the adage ...</td>\n",
              "      <td>2</td>\n",
              "    </tr>\n",
              "    <tr>\n",
              "      <th>2</th>\n",
              "      <td>3</td>\n",
              "      <td>1</td>\n",
              "      <td>A series</td>\n",
              "      <td>2</td>\n",
              "    </tr>\n",
              "    <tr>\n",
              "      <th>3</th>\n",
              "      <td>4</td>\n",
              "      <td>1</td>\n",
              "      <td>A</td>\n",
              "      <td>2</td>\n",
              "    </tr>\n",
              "    <tr>\n",
              "      <th>4</th>\n",
              "      <td>5</td>\n",
              "      <td>1</td>\n",
              "      <td>series</td>\n",
              "      <td>2</td>\n",
              "    </tr>\n",
              "    <tr>\n",
              "      <th>5</th>\n",
              "      <td>6</td>\n",
              "      <td>1</td>\n",
              "      <td>of escapades demonstrating the adage that what...</td>\n",
              "      <td>2</td>\n",
              "    </tr>\n",
              "    <tr>\n",
              "      <th>6</th>\n",
              "      <td>7</td>\n",
              "      <td>1</td>\n",
              "      <td>of</td>\n",
              "      <td>2</td>\n",
              "    </tr>\n",
              "    <tr>\n",
              "      <th>7</th>\n",
              "      <td>8</td>\n",
              "      <td>1</td>\n",
              "      <td>escapades demonstrating the adage that what is...</td>\n",
              "      <td>2</td>\n",
              "    </tr>\n",
              "    <tr>\n",
              "      <th>8</th>\n",
              "      <td>9</td>\n",
              "      <td>1</td>\n",
              "      <td>escapades</td>\n",
              "      <td>2</td>\n",
              "    </tr>\n",
              "    <tr>\n",
              "      <th>9</th>\n",
              "      <td>10</td>\n",
              "      <td>1</td>\n",
              "      <td>demonstrating the adage that what is good for ...</td>\n",
              "      <td>2</td>\n",
              "    </tr>\n",
              "  </tbody>\n",
              "</table>\n",
              "</div>"
            ],
            "text/plain": [
              "   PhraseId  ...  Sentiment\n",
              "0         1  ...          1\n",
              "1         2  ...          2\n",
              "2         3  ...          2\n",
              "3         4  ...          2\n",
              "4         5  ...          2\n",
              "5         6  ...          2\n",
              "6         7  ...          2\n",
              "7         8  ...          2\n",
              "8         9  ...          2\n",
              "9        10  ...          2\n",
              "\n",
              "[10 rows x 4 columns]"
            ]
          },
          "metadata": {
            "tags": []
          },
          "execution_count": 3
        }
      ]
    },
    {
      "cell_type": "code",
      "metadata": {
        "id": "4wcHpyYL8Ui5",
        "colab_type": "code",
        "colab": {}
      },
      "source": [
        "data = data.sample(frac=1).reset_index(drop=True)\n"
      ],
      "execution_count": 0,
      "outputs": []
    },
    {
      "cell_type": "code",
      "metadata": {
        "id": "-p3NgyNn8WIy",
        "colab_type": "code",
        "outputId": "da94f9e9-668a-4732-b79a-963d9d98e058",
        "colab": {
          "base_uri": "https://localhost:8080/",
          "height": 34
        }
      },
      "source": [
        "# Import train_test_split from sklearn and set the random state to 2003\n",
        "from sklearn.model_selection import train_test_split\n",
        "X_train, X_test, Y_train, Y_test = train_test_split(data ['Phrase'], data ['Sentiment'], test_size=0.3, random_state=2003)\n",
        "documents=[]\n",
        "X_train = np.array(X_train.values.tolist())\n",
        "Y_train = np.array(Y_train.values.tolist())\n",
        "\n",
        "## Cleaning and pre processing the data\n",
        "## Use a word tokenizer to tokenize the documents\n",
        "for i in range(len(X_train)):\n",
        "  documents.append([list(word_tokenize(X_train[i])), Y_train[i]]) \n",
        "X_test = np.array(X_test.values.tolist())\n",
        "Y_test = np.array(Y_test.values.tolist())\n",
        "for i in range(len(X_test)):\n",
        "  documents.append([list(word_tokenize(X_test[i])), Y_test[i]]) \n",
        "# print a document\n",
        "documents[0]"
      ],
      "execution_count": 5,
      "outputs": [
        {
          "output_type": "execute_result",
          "data": {
            "text/plain": [
              "[[',', 'the', 'film', 'is', 'a', 'good', 'one'], 3]"
            ]
          },
          "metadata": {
            "tags": []
          },
          "execution_count": 5
        }
      ]
    },
    {
      "cell_type": "code",
      "metadata": {
        "id": "cB6oVtso8YRu",
        "colab_type": "code",
        "colab": {}
      },
      "source": [
        "## Removing stop words and using lemmatizer to stem the words\n",
        "from nltk.corpus import stopwords \n",
        "from nltk.stem import WordNetLemmatizer, PorterStemmer, LancasterStemmer \n",
        "porter = PorterStemmer() \n",
        "lancaster=LancasterStemmer() \n",
        "wordnet_lemmatizer = WordNetLemmatizer() \n",
        "stopwords_en = stopwords.words(\"english\") \n",
        "punctuations=\"?:!.,;'\\\"-()\"\n",
        "## Using various parameters to remove stop words, stemming and lemmatizing\n",
        "remove_stopwords = True\n",
        "useStemming = False\n",
        "useLemma = False\n",
        "removePuncs = True\n"
      ],
      "execution_count": 0,
      "outputs": []
    },
    {
      "cell_type": "code",
      "metadata": {
        "id": "TPYGw8h58aig",
        "colab_type": "code",
        "colab": {}
      },
      "source": [
        "## Creating more refined and clean reviews\n",
        "for l in range(len(documents)):                   \n",
        "  label = documents[l][1]                         \n",
        "  temp = []                                  \n",
        "  for w in documents[l][0]:                       \n",
        "    newWord = w                                   \n",
        "    if remove_stopwords and (w in stopwords_en):  \n",
        "      continue                                   \n",
        "    if removePuncs and (w in punctuations):       \n",
        "      continue                                    \n",
        "    if useStemming: \n",
        "    ## Use Lancaster stemmer\n",
        "      newWord = lancaster.stem(newWord)\n",
        "    if useLemma: \n",
        "      newWord = wordnet_lemmatizer.lemmatize(newWord) \n",
        "    temp.append(newWord)                 \n",
        "## Removing the unprocessed reviews with clean refined reviews\n",
        "  documents[l] = (temp, label)             \n",
        "  documents[l] = (' '.join(temp), label) \n"
      ],
      "execution_count": 0,
      "outputs": []
    },
    {
      "cell_type": "code",
      "metadata": {
        "id": "hPYgRYM38c7K",
        "colab_type": "code",
        "colab": {
          "base_uri": "https://localhost:8080/",
          "height": 238
        },
        "outputId": "a9b8552a-b88e-4465-a736-831f24cabd45"
      },
      "source": [
        "## Displaying sample of data documents\n",
        "data = pd.DataFrame(documents, columns=['text', 'sentiment']) \n",
        "data.head()\n",
        "X_train, X_test, Y_train, Y_test = train_test_split(data['text'],  data['sentiment'], test_size=0.3, random_state=2003)\n",
        "print(Y_train)\n",
        "## Class Imbalance Normalization using class weights\n",
        "from sklearn.utils import class_weight\n",
        "print(np.unique(Y_train))\n",
        "class_weight = class_weight.compute_class_weight('balanced' ,np.unique(Y_train) ,Y_train)\n"
      ],
      "execution_count": 8,
      "outputs": [
        {
          "output_type": "stream",
          "text": [
            "13718     4\n",
            "91191     3\n",
            "97160     2\n",
            "143983    0\n",
            "37501     1\n",
            "         ..\n",
            "66444     2\n",
            "32466     2\n",
            "61551     3\n",
            "84485     2\n",
            "7495      2\n",
            "Name: sentiment, Length: 109242, dtype: int64\n",
            "[0 1 2 3 4]\n"
          ],
          "name": "stdout"
        }
      ]
    },
    {
      "cell_type": "code",
      "metadata": {
        "id": "KGYLaZNB8iE2",
        "colab_type": "code",
        "outputId": "9a3ee16b-bcd9-482e-a14a-ce2ae1c383cb",
        "colab": {
          "base_uri": "https://localhost:8080/",
          "height": 34
        }
      },
      "source": [
        "### Using TF-IDF Vectorization\n",
        "from sklearn.feature_extraction.text import CountVectorizer , TfidfVectorizer\n",
        "from keras.utils import to_categorical\n",
        "\n",
        "vectorizer = TfidfVectorizer(max_features = 2000,ngram_range=(1, 1)) \n",
        "X = vectorizer.fit_transform(data[\"text\"]) \n",
        "Y = data['sentiment'] \n",
        "\n",
        "X_train = vectorizer.transform(X_train).toarray()\n",
        "Y_train = Y_train \n",
        "X_test = vectorizer.transform(X_test).toarray()\n",
        "Y_test = Y_test"
      ],
      "execution_count": 9,
      "outputs": [
        {
          "output_type": "stream",
          "text": [
            "Using TensorFlow backend.\n"
          ],
          "name": "stderr"
        }
      ]
    },
    {
      "cell_type": "code",
      "metadata": {
        "id": "AZICVCcv8peq",
        "colab_type": "code",
        "colab": {}
      },
      "source": [
        "import keras\n",
        "from keras.datasets import mnist\n",
        "from keras.models import Sequential\n",
        "from keras.layers import Dense, Dropout, Flatten\n",
        "from keras.layers import Conv1D, MaxPooling1D\n"
      ],
      "execution_count": 0,
      "outputs": []
    },
    {
      "cell_type": "code",
      "metadata": {
        "id": "PpHXefdm8pmb",
        "colab_type": "code",
        "colab": {
          "base_uri": "https://localhost:8080/",
          "height": 221
        },
        "outputId": "44f00076-d1e5-40c1-b23a-6646fe42d8cb"
      },
      "source": [
        "## Setting up parameters for training the model\n",
        "num_classes = 5\n",
        "print(Y_train)"
      ],
      "execution_count": 11,
      "outputs": [
        {
          "output_type": "stream",
          "text": [
            "13718     4\n",
            "91191     3\n",
            "97160     2\n",
            "143983    0\n",
            "37501     1\n",
            "         ..\n",
            "66444     2\n",
            "32466     2\n",
            "61551     3\n",
            "84485     2\n",
            "7495      2\n",
            "Name: sentiment, Length: 109242, dtype: int64\n"
          ],
          "name": "stdout"
        }
      ]
    },
    {
      "cell_type": "code",
      "metadata": {
        "id": "xD_gC44Q8vMx",
        "colab_type": "code",
        "colab": {}
      },
      "source": [
        "Y_train = keras.utils.to_categorical(Y_train, num_classes)\n",
        "Y_test = keras.utils.to_categorical(Y_test, num_classes)"
      ],
      "execution_count": 0,
      "outputs": []
    },
    {
      "cell_type": "code",
      "metadata": {
        "id": "sznvNaoowxxv",
        "colab_type": "code",
        "colab": {}
      },
      "source": [
        "# Defining functions for calculating various performance metrics\n",
        "from keras import backend as K\n",
        "\n",
        "def recall_m(y_true, y_pred):\n",
        "    true_positives = K.sum(K.round(K.clip(y_true * y_pred, 0, 1)))\n",
        "    possible_positives = K.sum(K.round(K.clip(y_true, 0, 1)))\n",
        "    recall = true_positives / (possible_positives + K.epsilon())\n",
        "    return recall\n",
        "\n",
        "def precision_m(y_true, y_pred):\n",
        "    true_positives = K.sum(K.round(K.clip(y_true * y_pred, 0, 1)))\n",
        "    predicted_positives = K.sum(K.round(K.clip(y_pred, 0, 1)))\n",
        "    precision = true_positives / (predicted_positives + K.epsilon())\n",
        "    return precision\n",
        "\n",
        "def f1_m(y_true, y_pred):\n",
        "    precision = precision_m(y_true, y_pred)\n",
        "    recall = recall_m(y_true, y_pred)\n",
        "    return 2*((precision*recall)/(precision+recall+K.epsilon()))"
      ],
      "execution_count": 0,
      "outputs": []
    },
    {
      "cell_type": "code",
      "metadata": {
        "id": "EXrD6ky9Uz4X",
        "colab_type": "code",
        "colab": {}
      },
      "source": [
        "## Function for defining a convolutional model\n",
        "from keras.models import Sequential\n",
        "def cnnModelTrain():\n",
        "\n",
        "    model = Sequential()\n",
        "    model.add(Conv1D(filters=64, kernel_size=3,\n",
        "                 activation='relu',\n",
        "                 input_shape=(2000,1)))\n",
        "    model.add(MaxPooling1D(pool_size=1))\n",
        "    model.add(Conv1D(32, kernel_size=5, activation='relu'))\n",
        "    model.add(MaxPooling1D(pool_size=1))\n",
        "    model.add(Dropout(rate = 0.50))\n",
        "    model.add(Flatten())\n",
        "    # model.add(Dense(64, activation='relu'))\n",
        "    # model.add(Dropout(0.5))\n",
        "    model.add(Dense(num_classes, activation='softmax'))\n",
        "  # Define a method to feed inputs through the model\n",
        "    model.compile(loss=keras.losses.categorical_crossentropy,\n",
        "              optimizer=keras.optimizers.Adam(),\n",
        "              metrics=['accuracy',f1_m,precision_m, recall_m])\n",
        "    return model    "
      ],
      "execution_count": 0,
      "outputs": []
    },
    {
      "cell_type": "code",
      "metadata": {
        "id": "L8JgmV4GVb9Z",
        "colab_type": "code",
        "colab": {
          "base_uri": "https://localhost:8080/",
          "height": 700
        },
        "outputId": "f9574b5d-0b30-4a03-eabc-71245d712c3e"
      },
      "source": [
        "model= cnnModelTrain()\n",
        "model.summary()"
      ],
      "execution_count": 17,
      "outputs": [
        {
          "output_type": "stream",
          "text": [
            "WARNING:tensorflow:From /usr/local/lib/python3.6/dist-packages/keras/backend/tensorflow_backend.py:66: The name tf.get_default_graph is deprecated. Please use tf.compat.v1.get_default_graph instead.\n",
            "\n",
            "WARNING:tensorflow:From /usr/local/lib/python3.6/dist-packages/keras/backend/tensorflow_backend.py:541: The name tf.placeholder is deprecated. Please use tf.compat.v1.placeholder instead.\n",
            "\n",
            "WARNING:tensorflow:From /usr/local/lib/python3.6/dist-packages/keras/backend/tensorflow_backend.py:4432: The name tf.random_uniform is deprecated. Please use tf.random.uniform instead.\n",
            "\n",
            "WARNING:tensorflow:From /usr/local/lib/python3.6/dist-packages/keras/backend/tensorflow_backend.py:4267: The name tf.nn.max_pool is deprecated. Please use tf.nn.max_pool2d instead.\n",
            "\n",
            "WARNING:tensorflow:From /usr/local/lib/python3.6/dist-packages/keras/backend/tensorflow_backend.py:148: The name tf.placeholder_with_default is deprecated. Please use tf.compat.v1.placeholder_with_default instead.\n",
            "\n",
            "WARNING:tensorflow:From /usr/local/lib/python3.6/dist-packages/keras/backend/tensorflow_backend.py:3733: calling dropout (from tensorflow.python.ops.nn_ops) with keep_prob is deprecated and will be removed in a future version.\n",
            "Instructions for updating:\n",
            "Please use `rate` instead of `keep_prob`. Rate should be set to `rate = 1 - keep_prob`.\n",
            "WARNING:tensorflow:From /usr/local/lib/python3.6/dist-packages/keras/optimizers.py:793: The name tf.train.Optimizer is deprecated. Please use tf.compat.v1.train.Optimizer instead.\n",
            "\n",
            "WARNING:tensorflow:From /usr/local/lib/python3.6/dist-packages/keras/backend/tensorflow_backend.py:3576: The name tf.log is deprecated. Please use tf.math.log instead.\n",
            "\n",
            "Model: \"sequential_1\"\n",
            "_________________________________________________________________\n",
            "Layer (type)                 Output Shape              Param #   \n",
            "=================================================================\n",
            "conv1d_1 (Conv1D)            (None, 1998, 64)          256       \n",
            "_________________________________________________________________\n",
            "max_pooling1d_1 (MaxPooling1 (None, 1998, 64)          0         \n",
            "_________________________________________________________________\n",
            "conv1d_2 (Conv1D)            (None, 1994, 32)          10272     \n",
            "_________________________________________________________________\n",
            "max_pooling1d_2 (MaxPooling1 (None, 1994, 32)          0         \n",
            "_________________________________________________________________\n",
            "dropout_1 (Dropout)          (None, 1994, 32)          0         \n",
            "_________________________________________________________________\n",
            "flatten_1 (Flatten)          (None, 63808)             0         \n",
            "_________________________________________________________________\n",
            "dense_1 (Dense)              (None, 5)                 319045    \n",
            "=================================================================\n",
            "Total params: 329,573\n",
            "Trainable params: 329,573\n",
            "Non-trainable params: 0\n",
            "_________________________________________________________________\n"
          ],
          "name": "stdout"
        }
      ]
    },
    {
      "cell_type": "code",
      "metadata": {
        "id": "82VF57km820x",
        "colab_type": "code",
        "colab": {}
      },
      "source": [
        "X_train = X_train.reshape(X_train.shape[0], X_train.shape[1], 1)\n",
        "X_test = X_test.reshape(X_test.shape[0], X_test.shape[1], 1)"
      ],
      "execution_count": 0,
      "outputs": []
    },
    {
      "cell_type": "code",
      "metadata": {
        "id": "vkCXWhA487vc",
        "colab_type": "code",
        "outputId": "de03fdad-d13c-45bd-e203-efc4128ccdd1",
        "colab": {
          "base_uri": "https://localhost:8080/",
          "height": 1000
        }
      },
      "source": [
        "#### Calcaulte inference time\n",
        "from time import time\n",
        "start_time = time()\n",
        "train_score=[]\n",
        "\n",
        "\n",
        "history = model.fit(X_train, Y_train,batch_size=64,epochs=100,class_weight=class_weight,verbose=1)\n",
        "\n",
        "# evaluate the model\n",
        "loss, accuracy, f1_score, precision, recall = model.evaluate(X_test, Y_test, verbose=0)\n",
        "#score = model.evaluate(X_test, Y_test, verbose=0)\n",
        "print('Test loss:', loss)\n",
        "print('Test accuracy:', accuracy)\n",
        "print('Test Precision:',precision)\n",
        "print('Test Recall',recall)\n",
        "print('Test F1_Score',f1_score)\n",
        "\n",
        "print(history.history.keys())\n",
        "\n",
        "## Plotting various metrics with epochs\n",
        "\n",
        "# summarize history for accuracy\n",
        "plt.plot(history.history['acc'])\n",
        "plt.title('Training Accuracy')\n",
        "plt.ylabel('accuracy')\n",
        "plt.xlabel('epoch')\n",
        "plt.show()\n",
        "\n",
        "# summarize history for Loss\n",
        "plt.plot(history.history['loss'])\n",
        "plt.title('Training Loss')\n",
        "plt.ylabel('Loss')\n",
        "plt.xlabel('epoch')\n",
        "plt.show()\n",
        "\n",
        "# summarize history for F1_Score\n",
        "plt.plot(history.history['f1_m'])\n",
        "plt.title('Training F1_Score')\n",
        "plt.ylabel('F1_Score')\n",
        "plt.xlabel('epoch')\n",
        "plt.show()\n",
        "\n",
        "# summarize history for Recall\n",
        "plt.plot(history.history['recall_m'])\n",
        "plt.title('Training Recall')\n",
        "plt.ylabel('Recall')\n",
        "plt.xlabel('epoch')\n",
        "plt.show()\n",
        "\n",
        "\n",
        "# summarize history for Precision\n",
        "plt.plot(history.history['precision_m'])\n",
        "plt.title('Training Precision')\n",
        "plt.ylabel('Precision')\n",
        "plt.xlabel('epoch')\n",
        "plt.show()\n",
        "\n",
        "#### Time for training the model\n",
        "time_taken = time() - start_time\n",
        "print(\"Inference time: %.4f s\" % time_taken)\n"
      ],
      "execution_count": 19,
      "outputs": [
        {
          "output_type": "stream",
          "text": [
            "WARNING:tensorflow:From /tensorflow-1.15.0/python3.6/tensorflow_core/python/ops/math_grad.py:1424: where (from tensorflow.python.ops.array_ops) is deprecated and will be removed in a future version.\n",
            "Instructions for updating:\n",
            "Use tf.where in 2.0, which has the same broadcast rule as np.where\n",
            "WARNING:tensorflow:From /usr/local/lib/python3.6/dist-packages/keras/backend/tensorflow_backend.py:1033: The name tf.assign_add is deprecated. Please use tf.compat.v1.assign_add instead.\n",
            "\n",
            "WARNING:tensorflow:From /usr/local/lib/python3.6/dist-packages/keras/backend/tensorflow_backend.py:1020: The name tf.assign is deprecated. Please use tf.compat.v1.assign instead.\n",
            "\n",
            "WARNING:tensorflow:From /usr/local/lib/python3.6/dist-packages/keras/backend/tensorflow_backend.py:3005: The name tf.Session is deprecated. Please use tf.compat.v1.Session instead.\n",
            "\n",
            "Epoch 1/100\n",
            "WARNING:tensorflow:From /usr/local/lib/python3.6/dist-packages/keras/backend/tensorflow_backend.py:190: The name tf.get_default_session is deprecated. Please use tf.compat.v1.get_default_session instead.\n",
            "\n",
            "WARNING:tensorflow:From /usr/local/lib/python3.6/dist-packages/keras/backend/tensorflow_backend.py:197: The name tf.ConfigProto is deprecated. Please use tf.compat.v1.ConfigProto instead.\n",
            "\n",
            "WARNING:tensorflow:From /usr/local/lib/python3.6/dist-packages/keras/backend/tensorflow_backend.py:207: The name tf.global_variables is deprecated. Please use tf.compat.v1.global_variables instead.\n",
            "\n",
            "WARNING:tensorflow:From /usr/local/lib/python3.6/dist-packages/keras/backend/tensorflow_backend.py:216: The name tf.is_variable_initialized is deprecated. Please use tf.compat.v1.is_variable_initialized instead.\n",
            "\n",
            "WARNING:tensorflow:From /usr/local/lib/python3.6/dist-packages/keras/backend/tensorflow_backend.py:223: The name tf.variables_initializer is deprecated. Please use tf.compat.v1.variables_initializer instead.\n",
            "\n",
            "109242/109242 [==============================] - 50s 462us/step - loss: 1.1187 - acc: 0.5640 - f1_m: 0.4938 - precision_m: 0.6244 - recall_m: 0.4137\n",
            "Epoch 2/100\n",
            "109242/109242 [==============================] - 37s 342us/step - loss: 1.0281 - acc: 0.5944 - f1_m: 0.5508 - precision_m: 0.6602 - recall_m: 0.4741\n",
            "Epoch 3/100\n",
            "109242/109242 [==============================] - 37s 341us/step - loss: 1.0072 - acc: 0.6028 - f1_m: 0.5623 - precision_m: 0.6628 - recall_m: 0.4897\n",
            "Epoch 4/100\n",
            "109242/109242 [==============================] - 37s 343us/step - loss: 0.9986 - acc: 0.6054 - f1_m: 0.5687 - precision_m: 0.6675 - recall_m: 0.4968\n",
            "Epoch 5/100\n",
            "109242/109242 [==============================] - 37s 341us/step - loss: 0.9906 - acc: 0.6093 - f1_m: 0.5739 - precision_m: 0.6692 - recall_m: 0.5037\n",
            "Epoch 6/100\n",
            "109242/109242 [==============================] - 37s 340us/step - loss: 0.9837 - acc: 0.6106 - f1_m: 0.5768 - precision_m: 0.6696 - recall_m: 0.5078\n",
            "Epoch 7/100\n",
            "109242/109242 [==============================] - 37s 340us/step - loss: 0.9802 - acc: 0.6125 - f1_m: 0.5770 - precision_m: 0.6693 - recall_m: 0.5084\n",
            "Epoch 8/100\n",
            "109242/109242 [==============================] - 37s 341us/step - loss: 0.9765 - acc: 0.6130 - f1_m: 0.5810 - precision_m: 0.6707 - recall_m: 0.5137\n",
            "Epoch 9/100\n",
            "109242/109242 [==============================] - 37s 341us/step - loss: 0.9724 - acc: 0.6152 - f1_m: 0.5827 - precision_m: 0.6711 - recall_m: 0.5161\n",
            "Epoch 10/100\n",
            "109242/109242 [==============================] - 39s 353us/step - loss: 0.9699 - acc: 0.6168 - f1_m: 0.5852 - precision_m: 0.6728 - recall_m: 0.5190\n",
            "Epoch 11/100\n",
            "109242/109242 [==============================] - 39s 353us/step - loss: 0.9652 - acc: 0.6182 - f1_m: 0.5869 - precision_m: 0.6733 - recall_m: 0.5212\n",
            "Epoch 12/100\n",
            "109242/109242 [==============================] - 39s 353us/step - loss: 0.9629 - acc: 0.6185 - f1_m: 0.5889 - precision_m: 0.6748 - recall_m: 0.5235\n",
            "Epoch 13/100\n",
            "109242/109242 [==============================] - 39s 354us/step - loss: 0.9595 - acc: 0.6191 - f1_m: 0.5903 - precision_m: 0.6750 - recall_m: 0.5255\n",
            "Epoch 14/100\n",
            "109242/109242 [==============================] - 38s 352us/step - loss: 0.9597 - acc: 0.6202 - f1_m: 0.5894 - precision_m: 0.6738 - recall_m: 0.5249\n",
            "Epoch 15/100\n",
            "109242/109242 [==============================] - 38s 351us/step - loss: 0.9557 - acc: 0.6218 - f1_m: 0.5927 - precision_m: 0.6755 - recall_m: 0.5291\n",
            "Epoch 16/100\n",
            "109242/109242 [==============================] - 38s 348us/step - loss: 0.9522 - acc: 0.6230 - f1_m: 0.5940 - precision_m: 0.6751 - recall_m: 0.5314\n",
            "Epoch 17/100\n",
            "109242/109242 [==============================] - 38s 346us/step - loss: 0.9493 - acc: 0.6240 - f1_m: 0.5964 - precision_m: 0.6776 - recall_m: 0.5338\n",
            "Epoch 18/100\n",
            "109242/109242 [==============================] - 37s 342us/step - loss: 0.9486 - acc: 0.6251 - f1_m: 0.5966 - precision_m: 0.6769 - recall_m: 0.5345\n",
            "Epoch 19/100\n",
            "109242/109242 [==============================] - 37s 341us/step - loss: 0.9462 - acc: 0.6257 - f1_m: 0.5964 - precision_m: 0.6774 - recall_m: 0.5337\n",
            "Epoch 20/100\n",
            "109242/109242 [==============================] - 37s 341us/step - loss: 0.9439 - acc: 0.6268 - f1_m: 0.5993 - precision_m: 0.6799 - recall_m: 0.5369\n",
            "Epoch 21/100\n",
            "109242/109242 [==============================] - 37s 341us/step - loss: 0.9430 - acc: 0.6277 - f1_m: 0.5995 - precision_m: 0.6798 - recall_m: 0.5373\n",
            "Epoch 22/100\n",
            "109242/109242 [==============================] - 37s 340us/step - loss: 0.9387 - acc: 0.6289 - f1_m: 0.6018 - precision_m: 0.6804 - recall_m: 0.5405\n",
            "Epoch 23/100\n",
            "109242/109242 [==============================] - 37s 341us/step - loss: 0.9370 - acc: 0.6291 - f1_m: 0.6033 - precision_m: 0.6807 - recall_m: 0.5427\n",
            "Epoch 24/100\n",
            "109242/109242 [==============================] - 37s 341us/step - loss: 0.9371 - acc: 0.6294 - f1_m: 0.6021 - precision_m: 0.6798 - recall_m: 0.5415\n",
            "Epoch 25/100\n",
            "109242/109242 [==============================] - 37s 341us/step - loss: 0.9346 - acc: 0.6298 - f1_m: 0.6032 - precision_m: 0.6801 - recall_m: 0.5430\n",
            "Epoch 26/100\n",
            "109242/109242 [==============================] - 37s 342us/step - loss: 0.9336 - acc: 0.6300 - f1_m: 0.6037 - precision_m: 0.6802 - recall_m: 0.5437\n",
            "Epoch 27/100\n",
            "109242/109242 [==============================] - 37s 340us/step - loss: 0.9320 - acc: 0.6327 - f1_m: 0.6061 - precision_m: 0.6824 - recall_m: 0.5462\n",
            "Epoch 28/100\n",
            "109242/109242 [==============================] - 37s 341us/step - loss: 0.9301 - acc: 0.6321 - f1_m: 0.6064 - precision_m: 0.6825 - recall_m: 0.5465\n",
            "Epoch 29/100\n",
            "109242/109242 [==============================] - 37s 339us/step - loss: 0.9281 - acc: 0.6330 - f1_m: 0.6067 - precision_m: 0.6822 - recall_m: 0.5472\n",
            "Epoch 30/100\n",
            "109242/109242 [==============================] - 37s 341us/step - loss: 0.9266 - acc: 0.6328 - f1_m: 0.6079 - precision_m: 0.6832 - recall_m: 0.5486\n",
            "Epoch 31/100\n",
            "109242/109242 [==============================] - 37s 340us/step - loss: 0.9255 - acc: 0.6336 - f1_m: 0.6089 - precision_m: 0.6836 - recall_m: 0.5499\n",
            "Epoch 32/100\n",
            "109242/109242 [==============================] - 37s 340us/step - loss: 0.9252 - acc: 0.6344 - f1_m: 0.6089 - precision_m: 0.6842 - recall_m: 0.5495\n",
            "Epoch 33/100\n",
            "109242/109242 [==============================] - 37s 340us/step - loss: 0.9230 - acc: 0.6351 - f1_m: 0.6092 - precision_m: 0.6839 - recall_m: 0.5501\n",
            "Epoch 34/100\n",
            "109242/109242 [==============================] - 37s 340us/step - loss: 0.9215 - acc: 0.6350 - f1_m: 0.6107 - precision_m: 0.6844 - recall_m: 0.5523\n",
            "Epoch 35/100\n",
            "109242/109242 [==============================] - 37s 340us/step - loss: 0.9206 - acc: 0.6360 - f1_m: 0.6105 - precision_m: 0.6843 - recall_m: 0.5520\n",
            "Epoch 36/100\n",
            "109242/109242 [==============================] - 37s 341us/step - loss: 0.9200 - acc: 0.6367 - f1_m: 0.6114 - precision_m: 0.6849 - recall_m: 0.5530\n",
            "Epoch 37/100\n",
            "109242/109242 [==============================] - 37s 340us/step - loss: 0.9194 - acc: 0.6356 - f1_m: 0.6111 - precision_m: 0.6845 - recall_m: 0.5528\n",
            "Epoch 38/100\n",
            "109242/109242 [==============================] - 37s 340us/step - loss: 0.9158 - acc: 0.6368 - f1_m: 0.6124 - precision_m: 0.6848 - recall_m: 0.5548\n",
            "Epoch 39/100\n",
            "109242/109242 [==============================] - 37s 341us/step - loss: 0.9161 - acc: 0.6372 - f1_m: 0.6136 - precision_m: 0.6860 - recall_m: 0.5560\n",
            "Epoch 40/100\n",
            "109242/109242 [==============================] - 37s 340us/step - loss: 0.9145 - acc: 0.6371 - f1_m: 0.6127 - precision_m: 0.6853 - recall_m: 0.5549\n",
            "Epoch 41/100\n",
            "109242/109242 [==============================] - 37s 340us/step - loss: 0.9143 - acc: 0.6395 - f1_m: 0.6148 - precision_m: 0.6870 - recall_m: 0.5573\n",
            "Epoch 42/100\n",
            "109242/109242 [==============================] - 37s 340us/step - loss: 0.9124 - acc: 0.6393 - f1_m: 0.6160 - precision_m: 0.6876 - recall_m: 0.5588\n",
            "Epoch 43/100\n",
            "109242/109242 [==============================] - 37s 342us/step - loss: 0.9135 - acc: 0.6373 - f1_m: 0.6141 - precision_m: 0.6863 - recall_m: 0.5566\n",
            "Epoch 44/100\n",
            "109242/109242 [==============================] - 37s 340us/step - loss: 0.9121 - acc: 0.6389 - f1_m: 0.6155 - precision_m: 0.6876 - recall_m: 0.5581\n",
            "Epoch 45/100\n",
            "109242/109242 [==============================] - 37s 340us/step - loss: 0.9117 - acc: 0.6385 - f1_m: 0.6148 - precision_m: 0.6860 - recall_m: 0.5580\n",
            "Epoch 46/100\n",
            "109242/109242 [==============================] - 37s 341us/step - loss: 0.9099 - acc: 0.6404 - f1_m: 0.6155 - precision_m: 0.6874 - recall_m: 0.5582\n",
            "Epoch 47/100\n",
            "109242/109242 [==============================] - 37s 340us/step - loss: 0.9089 - acc: 0.6397 - f1_m: 0.6162 - precision_m: 0.6867 - recall_m: 0.5597\n",
            "Epoch 48/100\n",
            "109242/109242 [==============================] - 37s 340us/step - loss: 0.9067 - acc: 0.6416 - f1_m: 0.6171 - precision_m: 0.6885 - recall_m: 0.5601\n",
            "Epoch 49/100\n",
            "109242/109242 [==============================] - 37s 340us/step - loss: 0.9072 - acc: 0.6402 - f1_m: 0.6176 - precision_m: 0.6885 - recall_m: 0.5609\n",
            "Epoch 50/100\n",
            "109242/109242 [==============================] - 37s 340us/step - loss: 0.9073 - acc: 0.6410 - f1_m: 0.6175 - precision_m: 0.6877 - recall_m: 0.5613\n",
            "Epoch 51/100\n",
            "109242/109242 [==============================] - 37s 341us/step - loss: 0.9051 - acc: 0.6422 - f1_m: 0.6193 - precision_m: 0.6892 - recall_m: 0.5632\n",
            "Epoch 52/100\n",
            "109242/109242 [==============================] - 37s 341us/step - loss: 0.9035 - acc: 0.6431 - f1_m: 0.6201 - precision_m: 0.6893 - recall_m: 0.5644\n",
            "Epoch 53/100\n",
            "109242/109242 [==============================] - 37s 340us/step - loss: 0.9034 - acc: 0.6437 - f1_m: 0.6199 - precision_m: 0.6892 - recall_m: 0.5642\n",
            "Epoch 54/100\n",
            "109242/109242 [==============================] - 37s 340us/step - loss: 0.9017 - acc: 0.6429 - f1_m: 0.6209 - precision_m: 0.6902 - recall_m: 0.5652\n",
            "Epoch 55/100\n",
            "109242/109242 [==============================] - 37s 339us/step - loss: 0.9013 - acc: 0.6429 - f1_m: 0.6202 - precision_m: 0.6888 - recall_m: 0.5650\n",
            "Epoch 56/100\n",
            "109242/109242 [==============================] - 37s 340us/step - loss: 0.9007 - acc: 0.6438 - f1_m: 0.6214 - precision_m: 0.6908 - recall_m: 0.5656\n",
            "Epoch 57/100\n",
            "109242/109242 [==============================] - 37s 339us/step - loss: 0.9017 - acc: 0.6426 - f1_m: 0.6207 - precision_m: 0.6896 - recall_m: 0.5652\n",
            "Epoch 58/100\n",
            "109242/109242 [==============================] - 37s 340us/step - loss: 0.8982 - acc: 0.6433 - f1_m: 0.6219 - precision_m: 0.6898 - recall_m: 0.5671\n",
            "Epoch 59/100\n",
            "109242/109242 [==============================] - 37s 340us/step - loss: 0.8985 - acc: 0.6450 - f1_m: 0.6223 - precision_m: 0.6901 - recall_m: 0.5676\n",
            "Epoch 60/100\n",
            "109242/109242 [==============================] - 37s 341us/step - loss: 0.8980 - acc: 0.6434 - f1_m: 0.6221 - precision_m: 0.6904 - recall_m: 0.5670\n",
            "Epoch 61/100\n",
            "109242/109242 [==============================] - 37s 341us/step - loss: 0.8986 - acc: 0.6445 - f1_m: 0.6221 - precision_m: 0.6896 - recall_m: 0.5675\n",
            "Epoch 62/100\n",
            "109242/109242 [==============================] - 37s 339us/step - loss: 0.8977 - acc: 0.6443 - f1_m: 0.6232 - precision_m: 0.6908 - recall_m: 0.5685\n",
            "Epoch 63/100\n",
            "109242/109242 [==============================] - 37s 339us/step - loss: 0.8973 - acc: 0.6455 - f1_m: 0.6231 - precision_m: 0.6911 - recall_m: 0.5682\n",
            "Epoch 64/100\n",
            "109242/109242 [==============================] - 37s 342us/step - loss: 0.8974 - acc: 0.6457 - f1_m: 0.6239 - precision_m: 0.6912 - recall_m: 0.5694\n",
            "Epoch 65/100\n",
            "109242/109242 [==============================] - 38s 348us/step - loss: 0.8950 - acc: 0.6459 - f1_m: 0.6241 - precision_m: 0.6913 - recall_m: 0.5697\n",
            "Epoch 66/100\n",
            "109242/109242 [==============================] - 38s 347us/step - loss: 0.8950 - acc: 0.6459 - f1_m: 0.6248 - precision_m: 0.6921 - recall_m: 0.5703\n",
            "Epoch 67/100\n",
            "109242/109242 [==============================] - 38s 348us/step - loss: 0.8949 - acc: 0.6446 - f1_m: 0.6239 - precision_m: 0.6907 - recall_m: 0.5697\n",
            "Epoch 68/100\n",
            "109242/109242 [==============================] - 38s 348us/step - loss: 0.8950 - acc: 0.6450 - f1_m: 0.6242 - precision_m: 0.6913 - recall_m: 0.5698\n",
            "Epoch 69/100\n",
            "109242/109242 [==============================] - 38s 347us/step - loss: 0.8938 - acc: 0.6461 - f1_m: 0.6256 - precision_m: 0.6914 - recall_m: 0.5720\n",
            "Epoch 70/100\n",
            "109242/109242 [==============================] - 38s 347us/step - loss: 0.8935 - acc: 0.6457 - f1_m: 0.6241 - precision_m: 0.6913 - recall_m: 0.5696\n",
            "Epoch 71/100\n",
            "109242/109242 [==============================] - 38s 346us/step - loss: 0.8914 - acc: 0.6485 - f1_m: 0.6263 - precision_m: 0.6924 - recall_m: 0.5727\n",
            "Epoch 72/100\n",
            "109242/109242 [==============================] - 38s 344us/step - loss: 0.8915 - acc: 0.6477 - f1_m: 0.6265 - precision_m: 0.6923 - recall_m: 0.5730\n",
            "Epoch 73/100\n",
            "109242/109242 [==============================] - 37s 339us/step - loss: 0.8896 - acc: 0.6474 - f1_m: 0.6261 - precision_m: 0.6916 - recall_m: 0.5729\n",
            "Epoch 74/100\n",
            "109242/109242 [==============================] - 37s 338us/step - loss: 0.8899 - acc: 0.6477 - f1_m: 0.6270 - precision_m: 0.6931 - recall_m: 0.5733\n",
            "Epoch 75/100\n",
            "109242/109242 [==============================] - 37s 339us/step - loss: 0.8890 - acc: 0.6468 - f1_m: 0.6265 - precision_m: 0.6922 - recall_m: 0.5729\n",
            "Epoch 76/100\n",
            "109242/109242 [==============================] - 37s 340us/step - loss: 0.8882 - acc: 0.6492 - f1_m: 0.6278 - precision_m: 0.6936 - recall_m: 0.5742\n",
            "Epoch 77/100\n",
            "109242/109242 [==============================] - 37s 337us/step - loss: 0.8868 - acc: 0.6491 - f1_m: 0.6290 - precision_m: 0.6941 - recall_m: 0.5759\n",
            "Epoch 78/100\n",
            "109242/109242 [==============================] - 37s 337us/step - loss: 0.8875 - acc: 0.6496 - f1_m: 0.6282 - precision_m: 0.6930 - recall_m: 0.5754\n",
            "Epoch 79/100\n",
            "109242/109242 [==============================] - 37s 336us/step - loss: 0.8877 - acc: 0.6493 - f1_m: 0.6284 - precision_m: 0.6935 - recall_m: 0.5753\n",
            "Epoch 80/100\n",
            "109242/109242 [==============================] - 37s 336us/step - loss: 0.8871 - acc: 0.6478 - f1_m: 0.6276 - precision_m: 0.6928 - recall_m: 0.5745\n",
            "Epoch 81/100\n",
            "109242/109242 [==============================] - 37s 337us/step - loss: 0.8855 - acc: 0.6492 - f1_m: 0.6290 - precision_m: 0.6932 - recall_m: 0.5765\n",
            "Epoch 82/100\n",
            "109242/109242 [==============================] - 37s 336us/step - loss: 0.8858 - acc: 0.6504 - f1_m: 0.6287 - precision_m: 0.6930 - recall_m: 0.5761\n",
            "Epoch 83/100\n",
            "109242/109242 [==============================] - 37s 335us/step - loss: 0.8867 - acc: 0.6494 - f1_m: 0.6294 - precision_m: 0.6941 - recall_m: 0.5765\n",
            "Epoch 84/100\n",
            "109242/109242 [==============================] - 37s 336us/step - loss: 0.8847 - acc: 0.6486 - f1_m: 0.6302 - precision_m: 0.6942 - recall_m: 0.5779\n",
            "Epoch 85/100\n",
            "109242/109242 [==============================] - 37s 336us/step - loss: 0.8854 - acc: 0.6491 - f1_m: 0.6284 - precision_m: 0.6933 - recall_m: 0.5755\n",
            "Epoch 86/100\n",
            "109242/109242 [==============================] - 37s 337us/step - loss: 0.8849 - acc: 0.6490 - f1_m: 0.6293 - precision_m: 0.6937 - recall_m: 0.5767\n",
            "Epoch 87/100\n",
            "109242/109242 [==============================] - 37s 336us/step - loss: 0.8846 - acc: 0.6489 - f1_m: 0.6285 - precision_m: 0.6936 - recall_m: 0.5754\n",
            "Epoch 88/100\n",
            "109242/109242 [==============================] - 37s 336us/step - loss: 0.8842 - acc: 0.6502 - f1_m: 0.6307 - precision_m: 0.6943 - recall_m: 0.5787\n",
            "Epoch 89/100\n",
            "109242/109242 [==============================] - 37s 335us/step - loss: 0.8828 - acc: 0.6497 - f1_m: 0.6298 - precision_m: 0.6935 - recall_m: 0.5778\n",
            "Epoch 90/100\n",
            "109242/109242 [==============================] - 37s 335us/step - loss: 0.8821 - acc: 0.6506 - f1_m: 0.6311 - precision_m: 0.6954 - recall_m: 0.5785\n",
            "Epoch 91/100\n",
            "109242/109242 [==============================] - 37s 336us/step - loss: 0.8820 - acc: 0.6515 - f1_m: 0.6317 - precision_m: 0.6956 - recall_m: 0.5794\n",
            "Epoch 92/100\n",
            "109242/109242 [==============================] - 37s 335us/step - loss: 0.8826 - acc: 0.6491 - f1_m: 0.6297 - precision_m: 0.6935 - recall_m: 0.5774\n",
            "Epoch 93/100\n",
            "109242/109242 [==============================] - 37s 337us/step - loss: 0.8798 - acc: 0.6519 - f1_m: 0.6323 - precision_m: 0.6961 - recall_m: 0.5801\n",
            "Epoch 94/100\n",
            "109242/109242 [==============================] - 37s 335us/step - loss: 0.8819 - acc: 0.6501 - f1_m: 0.6308 - precision_m: 0.6943 - recall_m: 0.5788\n",
            "Epoch 95/100\n",
            "109242/109242 [==============================] - 37s 335us/step - loss: 0.8829 - acc: 0.6503 - f1_m: 0.6303 - precision_m: 0.6944 - recall_m: 0.5778\n",
            "Epoch 96/100\n",
            "109242/109242 [==============================] - 37s 335us/step - loss: 0.8795 - acc: 0.6522 - f1_m: 0.6327 - precision_m: 0.6951 - recall_m: 0.5815\n",
            "Epoch 97/100\n",
            "109242/109242 [==============================] - 37s 336us/step - loss: 0.8795 - acc: 0.6506 - f1_m: 0.6319 - precision_m: 0.6950 - recall_m: 0.5802\n",
            "Epoch 98/100\n",
            "109242/109242 [==============================] - 37s 335us/step - loss: 0.8771 - acc: 0.6524 - f1_m: 0.6327 - precision_m: 0.6949 - recall_m: 0.5816\n",
            "Epoch 99/100\n",
            "109242/109242 [==============================] - 37s 335us/step - loss: 0.8796 - acc: 0.6520 - f1_m: 0.6328 - precision_m: 0.6958 - recall_m: 0.5811\n",
            "Epoch 100/100\n",
            "109242/109242 [==============================] - 37s 336us/step - loss: 0.8794 - acc: 0.6502 - f1_m: 0.6324 - precision_m: 0.6949 - recall_m: 0.5810\n",
            "Test loss: 1.0435410008853563\n",
            "Test accuracy: 0.6100858644111239\n",
            "Test Precision: 0.6510814697669436\n",
            "Test Recall 0.5458157119056773\n",
            "Test F1_Score 0.5929379678683053\n",
            "dict_keys(['loss', 'acc', 'f1_m', 'precision_m', 'recall_m'])\n"
          ],
          "name": "stdout"
        },
        {
          "output_type": "display_data",
          "data": {
            "image/png": "[encoded data removed]",
            "text/plain": [
              "<Figure size 432x288 with 1 Axes>"
            ]
          },
          "metadata": {
            "tags": []
          }
        },
        {
          "output_type": "display_data",
          "data": {
            "image/png": "[encoded data removed]",
            "text/plain": [
              "<Figure size 432x288 with 1 Axes>"
            ]
          },
          "metadata": {
            "tags": []
          }
        },
        {
          "output_type": "display_data",
          "data": {
            "image/png": "[encoded data removed]",
            "text/plain": [
              "<Figure size 432x288 with 1 Axes>"
            ]
          },
          "metadata": {
            "tags": []
          }
        },
        {
          "output_type": "display_data",
          "data": {
            "image/png": "[encoded data removed]",
            "text/plain": [
              "<Figure size 432x288 with 1 Axes>"
            ]
          },
          "metadata": {
            "tags": []
          }
        },
        {
          "output_type": "display_data",
          "data": {
            "image/png": "[encoded data removed]",
            "text/plain": [
              "<Figure size 432x288 with 1 Axes>"
            ]
          },
          "metadata": {
            "tags": []
          }
        },
        {
          "output_type": "stream",
          "text": [
            "Inference time: 3742.7446 s\n"
          ],
          "name": "stdout"
        }
      ]
    },
    {
      "cell_type": "code",
      "metadata": {
        "id": "zkMJrh8Vxao9",
        "colab_type": "code",
        "outputId": "305df27c-3a62-453c-d41a-7be53ec60ec1",
        "colab": {
          "base_uri": "https://localhost:8080/",
          "height": 34
        }
      },
      "source": [
        "# Serialize model to JSON\n",
        "# Saving the model\n",
        "model_json = model.to_json()\n",
        "with open(\"1116552_1dconv_reg.json\", \"w\") as json_file:\n",
        "    json_file.write(model_json)\n",
        "# serialize weights to HDF5\n",
        "model.save_weights(\"model.h5\")\n",
        "print(\"Saved model to disk\")"
      ],
      "execution_count": 116,
      "outputs": [
        {
          "output_type": "stream",
          "text": [
            "Saved model to disk\n"
          ],
          "name": "stdout"
        }
      ]
    },
    {
      "cell_type": "code",
      "metadata": {
        "id": "GK2yLFqcxa05",
        "colab_type": "code",
        "outputId": "6db92092-2d58-47b5-e2fb-21ec4f460336",
        "colab": {
          "base_uri": "https://localhost:8080/",
          "height": 231
        }
      },
      "source": [
        "from keras.models import model_from_json\n",
        "# load the saved json and create model\n",
        "json_file = open('1116552_1dconv_reg.json', 'r')\n",
        "loaded_model_json = json_file.read()\n",
        "json_file.close()\n",
        "loaded_model = model_from_json(loaded_model_json)\n",
        "# load weights into new model\n",
        "loaded_model.load_weights(\"model.h5\")\n",
        "print(\"Loaded model from disk\")\n",
        " \n",
        "# evaluate loaded model on test data\n",
        "loaded_model. model.compile(loss=keras.losses.categorical_crossentropy,\n",
        "              optimizer=keras.optimizers.Adam(),\n",
        "              metrics=['accuracy',f1_m,precision_m, recall_m])\n",
        "loss, accuracy, f1_score, precision, recall = model.evaluate(X_test, Y_test, verbose=0)\n",
        "print('Test loss:', loss)\n",
        "print('Test accuracy:', accuracy)\n",
        "print('Test Precision:',precision)\n",
        "print('Test Recall',recall)\n",
        "print('Test F1_Score',f1_score)"
      ],
      "execution_count": 20,
      "outputs": [
        {
          "output_type": "error",
          "ename": "FileNotFoundError",
          "evalue": "ignored",
          "traceback": [
            "\u001b[0;31m---------------------------------------------------------------------------\u001b[0m",
            "\u001b[0;31mFileNotFoundError\u001b[0m                         Traceback (most recent call last)",
            "\u001b[0;32m<ipython-input-20-75a01a032727>\u001b[0m in \u001b[0;36m<module>\u001b[0;34m()\u001b[0m\n\u001b[1;32m      1\u001b[0m \u001b[0;32mfrom\u001b[0m \u001b[0mkeras\u001b[0m\u001b[0;34m.\u001b[0m\u001b[0mmodels\u001b[0m \u001b[0;32mimport\u001b[0m \u001b[0mmodel_from_json\u001b[0m\u001b[0;34m\u001b[0m\u001b[0;34m\u001b[0m\u001b[0m\n\u001b[1;32m      2\u001b[0m \u001b[0;31m# load the saved json and create model\u001b[0m\u001b[0;34m\u001b[0m\u001b[0;34m\u001b[0m\u001b[0;34m\u001b[0m\u001b[0m\n\u001b[0;32m----> 3\u001b[0;31m \u001b[0mjson_file\u001b[0m \u001b[0;34m=\u001b[0m \u001b[0mopen\u001b[0m\u001b[0;34m(\u001b[0m\u001b[0;34m'1116552_1dconv_reg.json'\u001b[0m\u001b[0;34m,\u001b[0m \u001b[0;34m'r'\u001b[0m\u001b[0;34m)\u001b[0m\u001b[0;34m\u001b[0m\u001b[0;34m\u001b[0m\u001b[0m\n\u001b[0m\u001b[1;32m      4\u001b[0m \u001b[0mloaded_model_json\u001b[0m \u001b[0;34m=\u001b[0m \u001b[0mjson_file\u001b[0m\u001b[0;34m.\u001b[0m\u001b[0mread\u001b[0m\u001b[0;34m(\u001b[0m\u001b[0;34m)\u001b[0m\u001b[0;34m\u001b[0m\u001b[0;34m\u001b[0m\u001b[0m\n\u001b[1;32m      5\u001b[0m \u001b[0mjson_file\u001b[0m\u001b[0;34m.\u001b[0m\u001b[0mclose\u001b[0m\u001b[0;34m(\u001b[0m\u001b[0;34m)\u001b[0m\u001b[0;34m\u001b[0m\u001b[0;34m\u001b[0m\u001b[0m\n",
            "\u001b[0;31mFileNotFoundError\u001b[0m: [Errno 2] No such file or directory: '1116552_1dconv_reg.json'"
          ]
        }
      ]
    }
  ]
}